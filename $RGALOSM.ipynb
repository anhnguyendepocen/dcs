{
 "cells": [
  {
   "cell_type": "code",
   "execution_count": 1,
   "metadata": {},
   "outputs": [],
   "source": [
    "import dcs"
   ]
  },
  {
   "cell_type": "code",
   "execution_count": 2,
   "metadata": {},
   "outputs": [],
   "source": [
    "vdem = dcs.load_dataset('vdem')"
   ]
  },
  {
   "cell_type": "code",
   "execution_count": 3,
   "metadata": {},
   "outputs": [
    {
     "data": {
      "text/plain": [
       "27013"
      ]
     },
     "execution_count": 3,
     "metadata": {},
     "output_type": "execute_result"
    }
   ],
   "source": [
    "len(vdem)"
   ]
  },
  {
   "cell_type": "code",
   "execution_count": 3,
   "metadata": {},
   "outputs": [],
   "source": [
    "Afghanistan = dcs.load('Afghanistan')"
   ]
  },
  {
   "cell_type": "code",
   "execution_count": 4,
   "metadata": {},
   "outputs": [
    {
     "name": "stdout",
     "output_type": "stream",
     "text": [
      "{'Afghanistan': 'dcs/data\\\\mueller\\\\Afghanistan.csv',\n",
      " 'Albania': 'dcs/data\\\\mueller\\\\Albania.csv',\n",
      " 'Algeria': 'dcs/data\\\\mueller\\\\Algeria.csv',\n",
      " 'Angola': 'dcs/data\\\\mueller\\\\Angola.csv',\n",
      " 'Argentina': 'dcs/data\\\\mueller\\\\Argentina.csv',\n",
      " 'Armenia': 'dcs/data\\\\mueller\\\\Armenia.csv',\n",
      " 'Australia': 'dcs/data\\\\mueller\\\\Australia.csv',\n",
      " 'Austria': 'dcs/data\\\\mueller\\\\Austria.csv',\n",
      " 'Azerbaijan': 'dcs/data\\\\mueller\\\\Azerbaijan.csv',\n",
      " 'Baden': 'dcs/data\\\\mueller\\\\Baden.csv',\n",
      " 'Bahrain': 'dcs/data\\\\mueller\\\\Bahrain.csv',\n",
      " 'Bangladesh': 'dcs/data\\\\mueller\\\\Bangladesh.csv',\n",
      " 'Barbados': 'dcs/data\\\\mueller\\\\Barbados.csv',\n",
      " 'Bavaria': 'dcs/data\\\\mueller\\\\Bavaria.csv',\n",
      " 'Belarus': 'dcs/data\\\\mueller\\\\Belarus.csv',\n",
      " 'Belgium': 'dcs/data\\\\mueller\\\\Belgium.csv',\n",
      " 'Benin': 'dcs/data\\\\mueller\\\\Benin.csv',\n",
      " 'Bhutan': 'dcs/data\\\\mueller\\\\Bhutan.csv',\n",
      " 'Bolivia': 'dcs/data\\\\mueller\\\\Bolivia.csv',\n",
      " 'Bosnia_and_Herzegovina': 'dcs/data\\\\mueller\\\\Bosnia_and_Herzegovina.csv',\n",
      " 'Botswana': 'dcs/data\\\\mueller\\\\Botswana.csv',\n",
      " 'Brazil': 'dcs/data\\\\mueller\\\\Brazil.csv',\n",
      " 'Brunswick': 'dcs/data\\\\mueller\\\\Brunswick.csv',\n",
      " 'Bulgaria': 'dcs/data\\\\mueller\\\\Bulgaria.csv',\n",
      " 'Burkina_Faso': 'dcs/data\\\\mueller\\\\Burkina_Faso.csv',\n",
      " 'Burma_Myanmar': 'dcs/data\\\\mueller\\\\Burma_Myanmar.csv',\n",
      " 'Burundi': 'dcs/data\\\\mueller\\\\Burundi.csv',\n",
      " 'Cambodia': 'dcs/data\\\\mueller\\\\Cambodia.csv',\n",
      " 'Cameroon': 'dcs/data\\\\mueller\\\\Cameroon.csv',\n",
      " 'Canada': 'dcs/data\\\\mueller\\\\Canada.csv',\n",
      " 'Cape_Verde': 'dcs/data\\\\mueller\\\\Cape_Verde.csv',\n",
      " 'Central_African_Republic': 'dcs/data\\\\mueller\\\\Central_African_Republic.csv',\n",
      " 'Chad': 'dcs/data\\\\mueller\\\\Chad.csv',\n",
      " 'Chile': 'dcs/data\\\\mueller\\\\Chile.csv',\n",
      " 'China': 'dcs/data\\\\mueller\\\\China.csv',\n",
      " 'Colombia': 'dcs/data\\\\mueller\\\\Colombia.csv',\n",
      " 'Comoros': 'dcs/data\\\\mueller\\\\Comoros.csv',\n",
      " 'Costa_Rica': 'dcs/data\\\\mueller\\\\Costa_Rica.csv',\n",
      " 'Croatia': 'dcs/data\\\\mueller\\\\Croatia.csv',\n",
      " 'Cuba': 'dcs/data\\\\mueller\\\\Cuba.csv',\n",
      " 'Cyprus': 'dcs/data\\\\mueller\\\\Cyprus.csv',\n",
      " 'Czech_Republic': 'dcs/data\\\\mueller\\\\Czech_Republic.csv',\n",
      " 'Democratic_Republic_of_the_Congo': 'dcs/data\\\\mueller\\\\Democratic_Republic_of_the_Congo.csv',\n",
      " 'Denmark': 'dcs/data\\\\mueller\\\\Denmark.csv',\n",
      " 'Djibouti': 'dcs/data\\\\mueller\\\\Djibouti.csv',\n",
      " 'Dominican_Republic': 'dcs/data\\\\mueller\\\\Dominican_Republic.csv',\n",
      " 'Ecuador': 'dcs/data\\\\mueller\\\\Ecuador.csv',\n",
      " 'Egypt': 'dcs/data\\\\mueller\\\\Egypt.csv',\n",
      " 'El_Salvador': 'dcs/data\\\\mueller\\\\El_Salvador.csv',\n",
      " 'Equatorial_Guinea': 'dcs/data\\\\mueller\\\\Equatorial_Guinea.csv',\n",
      " 'Eritrea': 'dcs/data\\\\mueller\\\\Eritrea.csv',\n",
      " 'Estonia': 'dcs/data\\\\mueller\\\\Estonia.csv',\n",
      " 'Eswatini': 'dcs/data\\\\mueller\\\\Eswatini.csv',\n",
      " 'Ethiopia': 'dcs/data\\\\mueller\\\\Ethiopia.csv',\n",
      " 'Fiji': 'dcs/data\\\\mueller\\\\Fiji.csv',\n",
      " 'Finland': 'dcs/data\\\\mueller\\\\Finland.csv',\n",
      " 'France': 'dcs/data\\\\mueller\\\\France.csv',\n",
      " 'Gabon': 'dcs/data\\\\mueller\\\\Gabon.csv',\n",
      " 'Georgia': 'dcs/data\\\\mueller\\\\Georgia.csv',\n",
      " 'German_Democratic_Republic': 'dcs/data\\\\mueller\\\\German_Democratic_Republic.csv',\n",
      " 'Germany': 'dcs/data\\\\mueller\\\\Germany.csv',\n",
      " 'Ghana': 'dcs/data\\\\mueller\\\\Ghana.csv',\n",
      " 'Greece': 'dcs/data\\\\mueller\\\\Greece.csv',\n",
      " 'Guatemala': 'dcs/data\\\\mueller\\\\Guatemala.csv',\n",
      " 'Guinea': 'dcs/data\\\\mueller\\\\Guinea.csv',\n",
      " 'Guinea-Bissau': 'dcs/data\\\\mueller\\\\Guinea-Bissau.csv',\n",
      " 'Guyana': 'dcs/data\\\\mueller\\\\Guyana.csv',\n",
      " 'Haiti': 'dcs/data\\\\mueller\\\\Haiti.csv',\n",
      " 'Hamburg': 'dcs/data\\\\mueller\\\\Hamburg.csv',\n",
      " 'Hanover': 'dcs/data\\\\mueller\\\\Hanover.csv',\n",
      " 'Hesse-Darmstadt': 'dcs/data\\\\mueller\\\\Hesse-Darmstadt.csv',\n",
      " 'Hesse-Kassel': 'dcs/data\\\\mueller\\\\Hesse-Kassel.csv',\n",
      " 'Honduras': 'dcs/data\\\\mueller\\\\Honduras.csv',\n",
      " 'Hong_Kong': 'dcs/data\\\\mueller\\\\Hong_Kong.csv',\n",
      " 'Hungary': 'dcs/data\\\\mueller\\\\Hungary.csv',\n",
      " 'Iceland': 'dcs/data\\\\mueller\\\\Iceland.csv',\n",
      " 'India': 'dcs/data\\\\mueller\\\\India.csv',\n",
      " 'Indonesia': 'dcs/data\\\\mueller\\\\Indonesia.csv',\n",
      " 'Iran': 'dcs/data\\\\mueller\\\\Iran.csv',\n",
      " 'Iraq': 'dcs/data\\\\mueller\\\\Iraq.csv',\n",
      " 'Ireland': 'dcs/data\\\\mueller\\\\Ireland.csv',\n",
      " 'Israel': 'dcs/data\\\\mueller\\\\Israel.csv',\n",
      " 'Italy': 'dcs/data\\\\mueller\\\\Italy.csv',\n",
      " 'Ivory_Coast': 'dcs/data\\\\mueller\\\\Ivory_Coast.csv',\n",
      " 'Jamaica': 'dcs/data\\\\mueller\\\\Jamaica.csv',\n",
      " 'Japan': 'dcs/data\\\\mueller\\\\Japan.csv',\n",
      " 'Jordan': 'dcs/data\\\\mueller\\\\Jordan.csv',\n",
      " 'Kazakhstan': 'dcs/data\\\\mueller\\\\Kazakhstan.csv',\n",
      " 'Kenya': 'dcs/data\\\\mueller\\\\Kenya.csv',\n",
      " 'Kosovo': 'dcs/data\\\\mueller\\\\Kosovo.csv',\n",
      " 'Kuwait': 'dcs/data\\\\mueller\\\\Kuwait.csv',\n",
      " 'Kyrgyzstan': 'dcs/data\\\\mueller\\\\Kyrgyzstan.csv',\n",
      " 'Laos': 'dcs/data\\\\mueller\\\\Laos.csv',\n",
      " 'Latvia': 'dcs/data\\\\mueller\\\\Latvia.csv',\n",
      " 'Lebanon': 'dcs/data\\\\mueller\\\\Lebanon.csv',\n",
      " 'Lesotho': 'dcs/data\\\\mueller\\\\Lesotho.csv',\n",
      " 'Liberia': 'dcs/data\\\\mueller\\\\Liberia.csv',\n",
      " 'Libya': 'dcs/data\\\\mueller\\\\Libya.csv',\n",
      " 'Lithuania': 'dcs/data\\\\mueller\\\\Lithuania.csv',\n",
      " 'Luxembourg': 'dcs/data\\\\mueller\\\\Luxembourg.csv',\n",
      " 'Madagascar': 'dcs/data\\\\vdem\\\\Madagascar.csv',\n",
      " 'Malawi': 'dcs/data\\\\vdem\\\\Malawi.csv',\n",
      " 'Malaysia': 'dcs/data\\\\vdem\\\\Malaysia.csv',\n",
      " 'Maldives': 'dcs/data\\\\vdem\\\\Maldives.csv',\n",
      " 'Mali': 'dcs/data\\\\vdem\\\\Mali.csv',\n",
      " 'Malta': 'dcs/data\\\\vdem\\\\Malta.csv',\n",
      " 'Mauritania': 'dcs/data\\\\vdem\\\\Mauritania.csv',\n",
      " 'Mauritius': 'dcs/data\\\\vdem\\\\Mauritius.csv',\n",
      " 'Mecklenburg_Schwerin': 'dcs/data\\\\vdem\\\\Mecklenburg_Schwerin.csv',\n",
      " 'Mexico': 'dcs/data\\\\vdem\\\\Mexico.csv',\n",
      " 'Modena': 'dcs/data\\\\vdem\\\\Modena.csv',\n",
      " 'Moldova': 'dcs/data\\\\vdem\\\\Moldova.csv',\n",
      " 'Mongolia': 'dcs/data\\\\vdem\\\\Mongolia.csv',\n",
      " 'Montenegro': 'dcs/data\\\\vdem\\\\Montenegro.csv',\n",
      " 'Morocco': 'dcs/data\\\\vdem\\\\Morocco.csv',\n",
      " 'Mozambique': 'dcs/data\\\\vdem\\\\Mozambique.csv',\n",
      " 'Namibia': 'dcs/data\\\\vdem\\\\Namibia.csv',\n",
      " 'Nassau': 'dcs/data\\\\vdem\\\\Nassau.csv',\n",
      " 'Nepal': 'dcs/data\\\\vdem\\\\Nepal.csv',\n",
      " 'Netherlands': 'dcs/data\\\\vdem\\\\Netherlands.csv',\n",
      " 'New_Zealand': 'dcs/data\\\\vdem\\\\New_Zealand.csv',\n",
      " 'Nicaragua': 'dcs/data\\\\vdem\\\\Nicaragua.csv',\n",
      " 'Niger': 'dcs/data\\\\vdem\\\\Niger.csv',\n",
      " 'Nigeria': 'dcs/data\\\\vdem\\\\Nigeria.csv',\n",
      " 'North_Korea': 'dcs/data\\\\vdem\\\\North_Korea.csv',\n",
      " 'North_Macedonia': 'dcs/data\\\\vdem\\\\North_Macedonia.csv',\n",
      " 'Norway': 'dcs/data\\\\vdem\\\\Norway.csv',\n",
      " 'Oldenburg': 'dcs/data\\\\vdem\\\\Oldenburg.csv',\n",
      " 'Oman': 'dcs/data\\\\vdem\\\\Oman.csv',\n",
      " 'Pakistan': 'dcs/data\\\\vdem\\\\Pakistan.csv',\n",
      " 'Palestine_British_Mandate': 'dcs/data\\\\vdem\\\\Palestine_British_Mandate.csv',\n",
      " 'Palestine_Gaza': 'dcs/data\\\\vdem\\\\Palestine_Gaza.csv',\n",
      " 'Palestine_West_Bank': 'dcs/data\\\\vdem\\\\Palestine_West_Bank.csv',\n",
      " 'Panama': 'dcs/data\\\\vdem\\\\Panama.csv',\n",
      " 'Papal_States': 'dcs/data\\\\vdem\\\\Papal_States.csv',\n",
      " 'Papua_New_Guinea': 'dcs/data\\\\vdem\\\\Papua_New_Guinea.csv',\n",
      " 'Paraguay': 'dcs/data\\\\vdem\\\\Paraguay.csv',\n",
      " 'Parma': 'dcs/data\\\\vdem\\\\Parma.csv',\n",
      " 'Peru': 'dcs/data\\\\vdem\\\\Peru.csv',\n",
      " 'Philippines': 'dcs/data\\\\vdem\\\\Philippines.csv',\n",
      " 'Piedmont-Sardinia': 'dcs/data\\\\vdem\\\\Piedmont-Sardinia.csv',\n",
      " 'Poland': 'dcs/data\\\\vdem\\\\Poland.csv',\n",
      " 'Portugal': 'dcs/data\\\\vdem\\\\Portugal.csv',\n",
      " 'Qatar': 'dcs/data\\\\vdem\\\\Qatar.csv',\n",
      " 'Republic_of_Vietnam': 'dcs/data\\\\vdem\\\\Republic_of_Vietnam.csv',\n",
      " 'Republic_of_the_Congo': 'dcs/data\\\\vdem\\\\Republic_of_the_Congo.csv',\n",
      " 'Romania': 'dcs/data\\\\vdem\\\\Romania.csv',\n",
      " 'Russia': 'dcs/data\\\\vdem\\\\Russia.csv',\n",
      " 'Rwanda': 'dcs/data\\\\vdem\\\\Rwanda.csv',\n",
      " 'Sao_Tome_and_Principe': 'dcs/data\\\\vdem\\\\Sao_Tome_and_Principe.csv',\n",
      " 'Saudi_Arabia': 'dcs/data\\\\vdem\\\\Saudi_Arabia.csv',\n",
      " 'Saxe-Weimar-Eisenach': 'dcs/data\\\\vdem\\\\Saxe-Weimar-Eisenach.csv',\n",
      " 'Saxony': 'dcs/data\\\\vdem\\\\Saxony.csv',\n",
      " 'Senegal': 'dcs/data\\\\vdem\\\\Senegal.csv',\n",
      " 'Serbia': 'dcs/data\\\\vdem\\\\Serbia.csv',\n",
      " 'Seychelles': 'dcs/data\\\\vdem\\\\Seychelles.csv',\n",
      " 'Sierra_Leone': 'dcs/data\\\\vdem\\\\Sierra_Leone.csv',\n",
      " 'Singapore': 'dcs/data\\\\vdem\\\\Singapore.csv',\n",
      " 'Slovakia': 'dcs/data\\\\vdem\\\\Slovakia.csv',\n",
      " 'Slovenia': 'dcs/data\\\\vdem\\\\Slovenia.csv',\n",
      " 'Solomon_Islands': 'dcs/data\\\\vdem\\\\Solomon_Islands.csv',\n",
      " 'Somalia': 'dcs/data\\\\vdem\\\\Somalia.csv',\n",
      " 'Somaliland': 'dcs/data\\\\vdem\\\\Somaliland.csv',\n",
      " 'South_Africa': 'dcs/data\\\\vdem\\\\South_Africa.csv',\n",
      " 'South_Korea': 'dcs/data\\\\vdem\\\\South_Korea.csv',\n",
      " 'South_Sudan': 'dcs/data\\\\vdem\\\\South_Sudan.csv',\n",
      " 'South_Yemen': 'dcs/data\\\\vdem\\\\South_Yemen.csv',\n",
      " 'Spain': 'dcs/data\\\\vdem\\\\Spain.csv',\n",
      " 'Sri_Lanka': 'dcs/data\\\\vdem\\\\Sri_Lanka.csv',\n",
      " 'Sudan': 'dcs/data\\\\vdem\\\\Sudan.csv',\n",
      " 'Suriname': 'dcs/data\\\\vdem\\\\Suriname.csv',\n",
      " 'Sweden': 'dcs/data\\\\vdem\\\\Sweden.csv',\n",
      " 'Switzerland': 'dcs/data\\\\vdem\\\\Switzerland.csv',\n",
      " 'Syria': 'dcs/data\\\\vdem\\\\Syria.csv',\n",
      " 'Taiwan': 'dcs/data\\\\vdem\\\\Taiwan.csv',\n",
      " 'Tajikistan': 'dcs/data\\\\vdem\\\\Tajikistan.csv',\n",
      " 'Tanzania': 'dcs/data\\\\vdem\\\\Tanzania.csv',\n",
      " 'Thailand': 'dcs/data\\\\vdem\\\\Thailand.csv',\n",
      " 'The_Gambia': 'dcs/data\\\\vdem\\\\The_Gambia.csv',\n",
      " 'Timor-Leste': 'dcs/data\\\\vdem\\\\Timor-Leste.csv',\n",
      " 'Togo': 'dcs/data\\\\vdem\\\\Togo.csv',\n",
      " 'Trinidad_and_Tobago': 'dcs/data\\\\vdem\\\\Trinidad_and_Tobago.csv',\n",
      " 'Tunisia': 'dcs/data\\\\vdem\\\\Tunisia.csv',\n",
      " 'Turkey': 'dcs/data\\\\vdem\\\\Turkey.csv',\n",
      " 'Turkmenistan': 'dcs/data\\\\vdem\\\\Turkmenistan.csv',\n",
      " 'Tuscany': 'dcs/data\\\\vdem\\\\Tuscany.csv',\n",
      " 'Two_Sicilies': 'dcs/data\\\\vdem\\\\Two_Sicilies.csv',\n",
      " 'Uganda': 'dcs/data\\\\vdem\\\\Uganda.csv',\n",
      " 'Ukraine': 'dcs/data\\\\vdem\\\\Ukraine.csv',\n",
      " 'United_Arab_Emirates': 'dcs/data\\\\vdem\\\\United_Arab_Emirates.csv',\n",
      " 'United_Kingdom': 'dcs/data\\\\vdem\\\\United_Kingdom.csv',\n",
      " 'United_States_of_America': 'dcs/data\\\\vdem\\\\United_States_of_America.csv',\n",
      " 'Uruguay': 'dcs/data\\\\vdem\\\\Uruguay.csv',\n",
      " 'Uzbekistan': 'dcs/data\\\\vdem\\\\Uzbekistan.csv',\n",
      " 'Vanuatu': 'dcs/data\\\\vdem\\\\Vanuatu.csv',\n",
      " 'Venezuela': 'dcs/data\\\\vdem\\\\Venezuela.csv',\n",
      " 'Vietnam': 'dcs/data\\\\vdem\\\\Vietnam.csv',\n",
      " 'Würtemberg': 'dcs/data\\\\vdem\\\\Würtemberg.csv',\n",
      " 'Yemen': 'dcs/data\\\\vdem\\\\Yemen.csv',\n",
      " 'Zambia': 'dcs/data\\\\vdem\\\\Zambia.csv',\n",
      " 'Zanzibar': 'dcs/data\\\\vdem\\\\Zanzibar.csv',\n",
      " 'Zimbabwe': 'dcs/data\\\\vdem\\\\Zimbabwe.csv'}\n"
     ]
    }
   ],
   "source": [
    "dcs.list_datasets()"
   ]
  },
  {
   "cell_type": "code",
   "execution_count": 4,
   "metadata": {},
   "outputs": [],
   "source": [
    "import os"
   ]
  },
  {
   "cell_type": "code",
   "execution_count": 5,
   "metadata": {},
   "outputs": [
    {
     "data": {
      "text/plain": [
       "'C:\\\\Users\\\\tcrick\\\\netlab\\\\dcs'"
      ]
     },
     "execution_count": 5,
     "metadata": {},
     "output_type": "execute_result"
    }
   ],
   "source": [
    "os.getcwd()"
   ]
  },
  {
   "cell_type": "code",
   "execution_count": 17,
   "metadata": {},
   "outputs": [],
   "source": [
    "#location = os.path.dirname(os.path.realpath(__file__))\n",
    "\n",
    "data = {}"
   ]
  },
  {
   "cell_type": "code",
   "execution_count": null,
   "metadata": {},
   "outputs": [],
   "source": [
    "for file in os.listdir(os.path.join(location, 'data')):\n",
    "    filename = file.split('.')[0]\n",
    "    data[filename] = file"
   ]
  },
  {
   "cell_type": "code",
   "execution_count": null,
   "metadata": {},
   "outputs": [],
   "source": [
    "for root, dirs, files in os.walk(os.path.expanduser('dcs/data')):\n",
    "    file_paths = [os.path.join(root, file) for \n",
    "    filename = file.split('.')[0]\n",
    "    data[filename] = file"
   ]
  },
  {
   "cell_type": "code",
   "execution_count": 10,
   "metadata": {},
   "outputs": [],
   "source": [
    "file_list = [os.path.join(root, file) for root, dirs, files in os.walk(os.path.expanduser(\"dcs/data\")) for file in files]"
   ]
  },
  {
   "cell_type": "code",
   "execution_count": 18,
   "metadata": {},
   "outputs": [],
   "source": [
    "for file_path in file_list:\n",
    "    file = file_path.split('.')[0]\n",
    "    filename = file.split('\\\\')[2]\n",
    "    data[filename] = file_path"
   ]
  },
  {
   "cell_type": "code",
   "execution_count": 20,
   "metadata": {},
   "outputs": [
    {
     "data": {
      "text/plain": [
       "'dcs/data\\\\mueller\\\\Afghanistan.csv'"
      ]
     },
     "execution_count": 20,
     "metadata": {},
     "output_type": "execute_result"
    }
   ],
   "source": [
    "data['Afghanistan']"
   ]
  },
  {
   "cell_type": "code",
   "execution_count": 23,
   "metadata": {},
   "outputs": [],
   "source": [
    "import pandas as pd"
   ]
  },
  {
   "cell_type": "code",
   "execution_count": 21,
   "metadata": {},
   "outputs": [],
   "source": [
    "def load(filename):\n",
    "    \"\"\"\n",
    "    Loads one of the datasets used in DCSS.\n",
    "    \"\"\"\n",
    "    #datapath = os.path.join(location, 'data', data[filename])\n",
    "    #datapath = os.path.join(location, 'data', data[filename])\n",
    "    df = pd.read_csv(data[filename], low_memory=False)\n",
    "    return df"
   ]
  },
  {
   "cell_type": "code",
   "execution_count": 24,
   "metadata": {},
   "outputs": [],
   "source": [
    "df = load('Afghanistan')"
   ]
  },
  {
   "cell_type": "code",
   "execution_count": null,
   "metadata": {},
   "outputs": [],
   "source": [
    "for root, dirs, files in os.walk(\".\", topdown=False):\n",
    "   for name in files:\n",
    "      print(os.path.join(root, name))\n",
    "   for name in dirs:\n",
    "      print(os.path.join(root, name))"
   ]
  },
  {
   "cell_type": "code",
   "execution_count": 29,
   "metadata": {},
   "outputs": [],
   "source": [
    "def load_dataset(dataset):\n",
    "    \"\"\"\n",
    "    Loads the full V-DEM 10 dataset.\n",
    "    \"\"\"\n",
    "    dfs = []\n",
    "    for file in os.listdir(os.path.join('dcs/data/' + dataset)):\n",
    "        datapath = os.path.join('dcs/data/' + dataset, file)\n",
    "        df = pd.read_csv(datapath, low_memory=False)\n",
    "        dfs.append(df)\n",
    "    df = pd.concat(dfs)\n",
    "    return df"
   ]
  },
  {
   "cell_type": "code",
   "execution_count": 30,
   "metadata": {},
   "outputs": [],
   "source": [
    "df1 = load_dataset('mueller')"
   ]
  },
  {
   "cell_type": "code",
   "execution_count": 31,
   "metadata": {},
   "outputs": [],
   "source": [
    "df2 = load_dataset('vdem')"
   ]
  },
  {
   "cell_type": "code",
   "execution_count": 32,
   "metadata": {},
   "outputs": [
    {
     "data": {
      "text/plain": [
       "13704"
      ]
     },
     "execution_count": 32,
     "metadata": {},
     "output_type": "execute_result"
    }
   ],
   "source": [
    "len(df1)"
   ]
  },
  {
   "cell_type": "code",
   "execution_count": 33,
   "metadata": {},
   "outputs": [
    {
     "data": {
      "text/plain": [
       "13309"
      ]
     },
     "execution_count": 33,
     "metadata": {},
     "output_type": "execute_result"
    }
   ],
   "source": [
    "len(df2)"
   ]
  },
  {
   "cell_type": "code",
   "execution_count": null,
   "metadata": {},
   "outputs": [],
   "source": []
  }
 ],
 "metadata": {
  "kernelspec": {
   "display_name": "Python 3",
   "language": "python",
   "name": "python3"
  },
  "language_info": {
   "codemirror_mode": {
    "name": "ipython",
    "version": 3
   },
   "file_extension": ".py",
   "mimetype": "text/x-python",
   "name": "python",
   "nbconvert_exporter": "python",
   "pygments_lexer": "ipython3",
   "version": "3.7.4"
  }
 },
 "nbformat": 4,
 "nbformat_minor": 4
}
